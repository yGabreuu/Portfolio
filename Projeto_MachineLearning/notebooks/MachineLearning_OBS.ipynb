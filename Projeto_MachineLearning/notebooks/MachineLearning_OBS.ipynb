{
 "cells": [
  {
   "cell_type": "markdown",
   "metadata": {},
   "source": [
    "INTRODUÇÃO:\n",
    "\n",
    "\n",
    "Será explorados dados do arquivo obesity.csv, disponibilizado pelo www.kaggle.com, a base de dados pode ser acessado através deste link: https://www.kaggle.com/datasets/muhramasaputra/obesity-based-on-eating-habits-and-physical-cond.\n",
    "Os dados estão em formato CSV e contém informações sobre o número de obesidade com base em hábitos alimentares e condição física, estamos interessado em explicar a última coluna \"Nobeyesdad\" quê indica que pessoas com (NObeyesdad = 0) seja pessoas não obesa e (NObeyesdad = 1) pessoas obesas ou seja queremos entender o motivo ao qual leva as pessoas terem obesidade baseado nos seus atos alimentares, atividades fisicas e etc.\n",
    "\n",
    "Descrição do dados logo abaixo: \n",
    "\n",
    "    O gênero é 1 se o entrevistado for do sexo masculino e 0 se o entrevistado for do sexo feminino.\n",
    "    Idade é a idade do entrevistado em anos.\n",
    "    family_history_with_overweight é 1 se um entrevistado tem um membro da família que está ou estava acima do peso, 0 se não.\n",
    "    FAVC é 1 se um entrevistado come alimentos com alto teor calórico com frequência, 0 se não.\n",
    "    O FCVC é 1 se o entrevistado costuma comer vegetais nas refeições, 0 caso contrário.\n",
    "    O NCP representa quantas refeições principais um entrevistado faz diariamente (0 para 1-2 refeições, 1 para 3 refeições e 2 para mais de 3 refeições).\n",
    "    CAEC representa a quantidade de comida que um entrevistado ingere entre as refeições em uma escala de 0 a 3.\n",
    "    SMOKE é 1 se o entrevistado fuma, 0 se não.\n",
    "    CH2O representa quanta água um entrevistado bebe em uma escala de 0 a 2.\n",
    "    O SCC é 1 se um entrevistado monitora sua ingestão calórica, 0 caso contrário.\n",
    "    FAF representa quanta atividade física um entrevistado faz em uma escala de 0 a 3.\n",
    "    TUE representa quanto tempo um entrevistado passa olhando para dispositivos com telas em uma escala de 0 a 2.\n",
    "    CALC representa a frequência com que um entrevistado bebe álcool em uma escala de 0 a 3.\n",
    "    Automóvel , Bicicleta , Moto , Transporte Público e Caminhada indicam o principal meio de transporte do entrevistado. Seu principal meio de transporte é indicado por 1 e as outras colunas conterão 0.\n",
    "    NObeyesdad é 1 se o paciente for obeso e 0 se não for."
   ]
  },
  {
   "cell_type": "code",
   "execution_count": 1,
   "metadata": {},
   "outputs": [],
   "source": [
    "import pandas as pd \n",
    "import seaborn as sns\n",
    "import numpy as  np\n",
    "import matplotlib.pyplot as plt\n",
    "from scipy.stats import chi2_contingency, ttest_ind"
   ]
  },
  {
   "cell_type": "code",
   "execution_count": 2,
   "metadata": {},
   "outputs": [],
   "source": [
    "df_obesidade = pd.read_csv('arquivo_obesidade.csv')"
   ]
  },
  {
   "cell_type": "code",
   "execution_count": 3,
   "metadata": {},
   "outputs": [
    {
     "data": {
      "text/html": [
       "<div>\n",
       "<style scoped>\n",
       "    .dataframe tbody tr th:only-of-type {\n",
       "        vertical-align: middle;\n",
       "    }\n",
       "\n",
       "    .dataframe tbody tr th {\n",
       "        vertical-align: top;\n",
       "    }\n",
       "\n",
       "    .dataframe thead th {\n",
       "        text-align: right;\n",
       "    }\n",
       "</style>\n",
       "<table border=\"1\" class=\"dataframe\">\n",
       "  <thead>\n",
       "    <tr style=\"text-align: right;\">\n",
       "      <th></th>\n",
       "      <th>Gender</th>\n",
       "      <th>Age</th>\n",
       "      <th>family_history_with_overweight</th>\n",
       "      <th>FAVC</th>\n",
       "      <th>FCVC</th>\n",
       "      <th>NCP</th>\n",
       "      <th>CAEC</th>\n",
       "      <th>SMOKE</th>\n",
       "      <th>CH2O</th>\n",
       "      <th>SCC</th>\n",
       "      <th>FAF</th>\n",
       "      <th>TUE</th>\n",
       "      <th>CALC</th>\n",
       "      <th>Automobile</th>\n",
       "      <th>Bike</th>\n",
       "      <th>Motorbike</th>\n",
       "      <th>Public_Transportation</th>\n",
       "      <th>Walking</th>\n",
       "      <th>NObeyesdad</th>\n",
       "    </tr>\n",
       "  </thead>\n",
       "  <tbody>\n",
       "    <tr>\n",
       "      <th>0</th>\n",
       "      <td>0</td>\n",
       "      <td>21.000000</td>\n",
       "      <td>1</td>\n",
       "      <td>0</td>\n",
       "      <td>2.0</td>\n",
       "      <td>3.0</td>\n",
       "      <td>1</td>\n",
       "      <td>0</td>\n",
       "      <td>2.000000</td>\n",
       "      <td>0</td>\n",
       "      <td>0.000000</td>\n",
       "      <td>1.000000</td>\n",
       "      <td>0</td>\n",
       "      <td>0</td>\n",
       "      <td>0</td>\n",
       "      <td>0</td>\n",
       "      <td>1</td>\n",
       "      <td>0</td>\n",
       "      <td>0</td>\n",
       "    </tr>\n",
       "    <tr>\n",
       "      <th>1</th>\n",
       "      <td>0</td>\n",
       "      <td>21.000000</td>\n",
       "      <td>1</td>\n",
       "      <td>0</td>\n",
       "      <td>3.0</td>\n",
       "      <td>3.0</td>\n",
       "      <td>1</td>\n",
       "      <td>1</td>\n",
       "      <td>3.000000</td>\n",
       "      <td>1</td>\n",
       "      <td>3.000000</td>\n",
       "      <td>0.000000</td>\n",
       "      <td>1</td>\n",
       "      <td>0</td>\n",
       "      <td>0</td>\n",
       "      <td>0</td>\n",
       "      <td>1</td>\n",
       "      <td>0</td>\n",
       "      <td>0</td>\n",
       "    </tr>\n",
       "    <tr>\n",
       "      <th>2</th>\n",
       "      <td>1</td>\n",
       "      <td>23.000000</td>\n",
       "      <td>1</td>\n",
       "      <td>0</td>\n",
       "      <td>2.0</td>\n",
       "      <td>3.0</td>\n",
       "      <td>1</td>\n",
       "      <td>0</td>\n",
       "      <td>2.000000</td>\n",
       "      <td>0</td>\n",
       "      <td>2.000000</td>\n",
       "      <td>1.000000</td>\n",
       "      <td>2</td>\n",
       "      <td>0</td>\n",
       "      <td>0</td>\n",
       "      <td>0</td>\n",
       "      <td>1</td>\n",
       "      <td>0</td>\n",
       "      <td>0</td>\n",
       "    </tr>\n",
       "    <tr>\n",
       "      <th>3</th>\n",
       "      <td>1</td>\n",
       "      <td>27.000000</td>\n",
       "      <td>0</td>\n",
       "      <td>0</td>\n",
       "      <td>3.0</td>\n",
       "      <td>3.0</td>\n",
       "      <td>1</td>\n",
       "      <td>0</td>\n",
       "      <td>2.000000</td>\n",
       "      <td>0</td>\n",
       "      <td>2.000000</td>\n",
       "      <td>0.000000</td>\n",
       "      <td>2</td>\n",
       "      <td>0</td>\n",
       "      <td>0</td>\n",
       "      <td>0</td>\n",
       "      <td>0</td>\n",
       "      <td>1</td>\n",
       "      <td>0</td>\n",
       "    </tr>\n",
       "    <tr>\n",
       "      <th>4</th>\n",
       "      <td>1</td>\n",
       "      <td>22.000000</td>\n",
       "      <td>0</td>\n",
       "      <td>0</td>\n",
       "      <td>2.0</td>\n",
       "      <td>1.0</td>\n",
       "      <td>1</td>\n",
       "      <td>0</td>\n",
       "      <td>2.000000</td>\n",
       "      <td>0</td>\n",
       "      <td>0.000000</td>\n",
       "      <td>0.000000</td>\n",
       "      <td>1</td>\n",
       "      <td>0</td>\n",
       "      <td>0</td>\n",
       "      <td>0</td>\n",
       "      <td>1</td>\n",
       "      <td>0</td>\n",
       "      <td>0</td>\n",
       "    </tr>\n",
       "    <tr>\n",
       "      <th>...</th>\n",
       "      <td>...</td>\n",
       "      <td>...</td>\n",
       "      <td>...</td>\n",
       "      <td>...</td>\n",
       "      <td>...</td>\n",
       "      <td>...</td>\n",
       "      <td>...</td>\n",
       "      <td>...</td>\n",
       "      <td>...</td>\n",
       "      <td>...</td>\n",
       "      <td>...</td>\n",
       "      <td>...</td>\n",
       "      <td>...</td>\n",
       "      <td>...</td>\n",
       "      <td>...</td>\n",
       "      <td>...</td>\n",
       "      <td>...</td>\n",
       "      <td>...</td>\n",
       "      <td>...</td>\n",
       "    </tr>\n",
       "    <tr>\n",
       "      <th>2106</th>\n",
       "      <td>0</td>\n",
       "      <td>20.976842</td>\n",
       "      <td>1</td>\n",
       "      <td>1</td>\n",
       "      <td>3.0</td>\n",
       "      <td>3.0</td>\n",
       "      <td>1</td>\n",
       "      <td>0</td>\n",
       "      <td>1.728139</td>\n",
       "      <td>0</td>\n",
       "      <td>1.676269</td>\n",
       "      <td>0.906247</td>\n",
       "      <td>1</td>\n",
       "      <td>0</td>\n",
       "      <td>0</td>\n",
       "      <td>0</td>\n",
       "      <td>1</td>\n",
       "      <td>0</td>\n",
       "      <td>1</td>\n",
       "    </tr>\n",
       "    <tr>\n",
       "      <th>2107</th>\n",
       "      <td>0</td>\n",
       "      <td>21.982942</td>\n",
       "      <td>1</td>\n",
       "      <td>1</td>\n",
       "      <td>3.0</td>\n",
       "      <td>3.0</td>\n",
       "      <td>1</td>\n",
       "      <td>0</td>\n",
       "      <td>2.005130</td>\n",
       "      <td>0</td>\n",
       "      <td>1.341390</td>\n",
       "      <td>0.599270</td>\n",
       "      <td>1</td>\n",
       "      <td>0</td>\n",
       "      <td>0</td>\n",
       "      <td>0</td>\n",
       "      <td>1</td>\n",
       "      <td>0</td>\n",
       "      <td>1</td>\n",
       "    </tr>\n",
       "    <tr>\n",
       "      <th>2108</th>\n",
       "      <td>0</td>\n",
       "      <td>22.524036</td>\n",
       "      <td>1</td>\n",
       "      <td>1</td>\n",
       "      <td>3.0</td>\n",
       "      <td>3.0</td>\n",
       "      <td>1</td>\n",
       "      <td>0</td>\n",
       "      <td>2.054193</td>\n",
       "      <td>0</td>\n",
       "      <td>1.414209</td>\n",
       "      <td>0.646288</td>\n",
       "      <td>1</td>\n",
       "      <td>0</td>\n",
       "      <td>0</td>\n",
       "      <td>0</td>\n",
       "      <td>1</td>\n",
       "      <td>0</td>\n",
       "      <td>1</td>\n",
       "    </tr>\n",
       "    <tr>\n",
       "      <th>2109</th>\n",
       "      <td>0</td>\n",
       "      <td>24.361936</td>\n",
       "      <td>1</td>\n",
       "      <td>1</td>\n",
       "      <td>3.0</td>\n",
       "      <td>3.0</td>\n",
       "      <td>1</td>\n",
       "      <td>0</td>\n",
       "      <td>2.852339</td>\n",
       "      <td>0</td>\n",
       "      <td>1.139107</td>\n",
       "      <td>0.586035</td>\n",
       "      <td>1</td>\n",
       "      <td>0</td>\n",
       "      <td>0</td>\n",
       "      <td>0</td>\n",
       "      <td>1</td>\n",
       "      <td>0</td>\n",
       "      <td>1</td>\n",
       "    </tr>\n",
       "    <tr>\n",
       "      <th>2110</th>\n",
       "      <td>0</td>\n",
       "      <td>23.664709</td>\n",
       "      <td>1</td>\n",
       "      <td>1</td>\n",
       "      <td>3.0</td>\n",
       "      <td>3.0</td>\n",
       "      <td>1</td>\n",
       "      <td>0</td>\n",
       "      <td>2.863513</td>\n",
       "      <td>0</td>\n",
       "      <td>1.026452</td>\n",
       "      <td>0.714137</td>\n",
       "      <td>1</td>\n",
       "      <td>0</td>\n",
       "      <td>0</td>\n",
       "      <td>0</td>\n",
       "      <td>1</td>\n",
       "      <td>0</td>\n",
       "      <td>1</td>\n",
       "    </tr>\n",
       "  </tbody>\n",
       "</table>\n",
       "<p>2111 rows × 19 columns</p>\n",
       "</div>"
      ],
      "text/plain": [
       "      Gender        Age  family_history_with_overweight  FAVC  FCVC  NCP  \\\n",
       "0          0  21.000000                               1     0   2.0  3.0   \n",
       "1          0  21.000000                               1     0   3.0  3.0   \n",
       "2          1  23.000000                               1     0   2.0  3.0   \n",
       "3          1  27.000000                               0     0   3.0  3.0   \n",
       "4          1  22.000000                               0     0   2.0  1.0   \n",
       "...      ...        ...                             ...   ...   ...  ...   \n",
       "2106       0  20.976842                               1     1   3.0  3.0   \n",
       "2107       0  21.982942                               1     1   3.0  3.0   \n",
       "2108       0  22.524036                               1     1   3.0  3.0   \n",
       "2109       0  24.361936                               1     1   3.0  3.0   \n",
       "2110       0  23.664709                               1     1   3.0  3.0   \n",
       "\n",
       "      CAEC  SMOKE      CH2O  SCC       FAF       TUE  CALC  Automobile  Bike  \\\n",
       "0        1      0  2.000000    0  0.000000  1.000000     0           0     0   \n",
       "1        1      1  3.000000    1  3.000000  0.000000     1           0     0   \n",
       "2        1      0  2.000000    0  2.000000  1.000000     2           0     0   \n",
       "3        1      0  2.000000    0  2.000000  0.000000     2           0     0   \n",
       "4        1      0  2.000000    0  0.000000  0.000000     1           0     0   \n",
       "...    ...    ...       ...  ...       ...       ...   ...         ...   ...   \n",
       "2106     1      0  1.728139    0  1.676269  0.906247     1           0     0   \n",
       "2107     1      0  2.005130    0  1.341390  0.599270     1           0     0   \n",
       "2108     1      0  2.054193    0  1.414209  0.646288     1           0     0   \n",
       "2109     1      0  2.852339    0  1.139107  0.586035     1           0     0   \n",
       "2110     1      0  2.863513    0  1.026452  0.714137     1           0     0   \n",
       "\n",
       "      Motorbike  Public_Transportation  Walking  NObeyesdad  \n",
       "0             0                      1        0           0  \n",
       "1             0                      1        0           0  \n",
       "2             0                      1        0           0  \n",
       "3             0                      0        1           0  \n",
       "4             0                      1        0           0  \n",
       "...         ...                    ...      ...         ...  \n",
       "2106          0                      1        0           1  \n",
       "2107          0                      1        0           1  \n",
       "2108          0                      1        0           1  \n",
       "2109          0                      1        0           1  \n",
       "2110          0                      1        0           1  \n",
       "\n",
       "[2111 rows x 19 columns]"
      ]
     },
     "execution_count": 3,
     "metadata": {},
     "output_type": "execute_result"
    }
   ],
   "source": [
    "df_obesidade"
   ]
  },
  {
   "cell_type": "code",
   "execution_count": 4,
   "metadata": {},
   "outputs": [
    {
     "data": {
      "text/html": [
       "<div>\n",
       "<style scoped>\n",
       "    .dataframe tbody tr th:only-of-type {\n",
       "        vertical-align: middle;\n",
       "    }\n",
       "\n",
       "    .dataframe tbody tr th {\n",
       "        vertical-align: top;\n",
       "    }\n",
       "\n",
       "    .dataframe thead th {\n",
       "        text-align: right;\n",
       "    }\n",
       "</style>\n",
       "<table border=\"1\" class=\"dataframe\">\n",
       "  <thead>\n",
       "    <tr style=\"text-align: right;\">\n",
       "      <th></th>\n",
       "      <th>count</th>\n",
       "      <th>mean</th>\n",
       "      <th>std</th>\n",
       "      <th>min</th>\n",
       "      <th>25%</th>\n",
       "      <th>50%</th>\n",
       "      <th>75%</th>\n",
       "      <th>max</th>\n",
       "    </tr>\n",
       "  </thead>\n",
       "  <tbody>\n",
       "    <tr>\n",
       "      <th>Gender</th>\n",
       "      <td>2111.0</td>\n",
       "      <td>0.505921</td>\n",
       "      <td>0.500083</td>\n",
       "      <td>0.0</td>\n",
       "      <td>0.000000</td>\n",
       "      <td>1.000000</td>\n",
       "      <td>1.000000</td>\n",
       "      <td>1.0</td>\n",
       "    </tr>\n",
       "    <tr>\n",
       "      <th>Age</th>\n",
       "      <td>2111.0</td>\n",
       "      <td>24.312600</td>\n",
       "      <td>6.345968</td>\n",
       "      <td>14.0</td>\n",
       "      <td>19.947192</td>\n",
       "      <td>22.777890</td>\n",
       "      <td>26.000000</td>\n",
       "      <td>61.0</td>\n",
       "    </tr>\n",
       "    <tr>\n",
       "      <th>family_history_with_overweight</th>\n",
       "      <td>2111.0</td>\n",
       "      <td>0.817622</td>\n",
       "      <td>0.386247</td>\n",
       "      <td>0.0</td>\n",
       "      <td>1.000000</td>\n",
       "      <td>1.000000</td>\n",
       "      <td>1.000000</td>\n",
       "      <td>1.0</td>\n",
       "    </tr>\n",
       "    <tr>\n",
       "      <th>FAVC</th>\n",
       "      <td>2111.0</td>\n",
       "      <td>0.883941</td>\n",
       "      <td>0.320371</td>\n",
       "      <td>0.0</td>\n",
       "      <td>1.000000</td>\n",
       "      <td>1.000000</td>\n",
       "      <td>1.000000</td>\n",
       "      <td>1.0</td>\n",
       "    </tr>\n",
       "    <tr>\n",
       "      <th>FCVC</th>\n",
       "      <td>2111.0</td>\n",
       "      <td>2.419043</td>\n",
       "      <td>0.533927</td>\n",
       "      <td>1.0</td>\n",
       "      <td>2.000000</td>\n",
       "      <td>2.385502</td>\n",
       "      <td>3.000000</td>\n",
       "      <td>3.0</td>\n",
       "    </tr>\n",
       "    <tr>\n",
       "      <th>NCP</th>\n",
       "      <td>2111.0</td>\n",
       "      <td>2.685628</td>\n",
       "      <td>0.778039</td>\n",
       "      <td>1.0</td>\n",
       "      <td>2.658738</td>\n",
       "      <td>3.000000</td>\n",
       "      <td>3.000000</td>\n",
       "      <td>4.0</td>\n",
       "    </tr>\n",
       "    <tr>\n",
       "      <th>CAEC</th>\n",
       "      <td>2111.0</td>\n",
       "      <td>1.140692</td>\n",
       "      <td>0.468543</td>\n",
       "      <td>0.0</td>\n",
       "      <td>1.000000</td>\n",
       "      <td>1.000000</td>\n",
       "      <td>1.000000</td>\n",
       "      <td>3.0</td>\n",
       "    </tr>\n",
       "    <tr>\n",
       "      <th>SMOKE</th>\n",
       "      <td>2111.0</td>\n",
       "      <td>0.020843</td>\n",
       "      <td>0.142893</td>\n",
       "      <td>0.0</td>\n",
       "      <td>0.000000</td>\n",
       "      <td>0.000000</td>\n",
       "      <td>0.000000</td>\n",
       "      <td>1.0</td>\n",
       "    </tr>\n",
       "    <tr>\n",
       "      <th>CH2O</th>\n",
       "      <td>2111.0</td>\n",
       "      <td>2.008011</td>\n",
       "      <td>0.612953</td>\n",
       "      <td>1.0</td>\n",
       "      <td>1.584812</td>\n",
       "      <td>2.000000</td>\n",
       "      <td>2.477420</td>\n",
       "      <td>3.0</td>\n",
       "    </tr>\n",
       "    <tr>\n",
       "      <th>SCC</th>\n",
       "      <td>2111.0</td>\n",
       "      <td>0.045476</td>\n",
       "      <td>0.208395</td>\n",
       "      <td>0.0</td>\n",
       "      <td>0.000000</td>\n",
       "      <td>0.000000</td>\n",
       "      <td>0.000000</td>\n",
       "      <td>1.0</td>\n",
       "    </tr>\n",
       "    <tr>\n",
       "      <th>FAF</th>\n",
       "      <td>2111.0</td>\n",
       "      <td>1.010298</td>\n",
       "      <td>0.850592</td>\n",
       "      <td>0.0</td>\n",
       "      <td>0.124505</td>\n",
       "      <td>1.000000</td>\n",
       "      <td>1.666678</td>\n",
       "      <td>3.0</td>\n",
       "    </tr>\n",
       "    <tr>\n",
       "      <th>TUE</th>\n",
       "      <td>2111.0</td>\n",
       "      <td>0.657866</td>\n",
       "      <td>0.608927</td>\n",
       "      <td>0.0</td>\n",
       "      <td>0.000000</td>\n",
       "      <td>0.625350</td>\n",
       "      <td>1.000000</td>\n",
       "      <td>2.0</td>\n",
       "    </tr>\n",
       "    <tr>\n",
       "      <th>CALC</th>\n",
       "      <td>2111.0</td>\n",
       "      <td>0.731407</td>\n",
       "      <td>0.515498</td>\n",
       "      <td>0.0</td>\n",
       "      <td>0.000000</td>\n",
       "      <td>1.000000</td>\n",
       "      <td>1.000000</td>\n",
       "      <td>3.0</td>\n",
       "    </tr>\n",
       "    <tr>\n",
       "      <th>Automobile</th>\n",
       "      <td>2111.0</td>\n",
       "      <td>0.216485</td>\n",
       "      <td>0.411946</td>\n",
       "      <td>0.0</td>\n",
       "      <td>0.000000</td>\n",
       "      <td>0.000000</td>\n",
       "      <td>0.000000</td>\n",
       "      <td>1.0</td>\n",
       "    </tr>\n",
       "    <tr>\n",
       "      <th>Bike</th>\n",
       "      <td>2111.0</td>\n",
       "      <td>0.003316</td>\n",
       "      <td>0.057502</td>\n",
       "      <td>0.0</td>\n",
       "      <td>0.000000</td>\n",
       "      <td>0.000000</td>\n",
       "      <td>0.000000</td>\n",
       "      <td>1.0</td>\n",
       "    </tr>\n",
       "    <tr>\n",
       "      <th>Motorbike</th>\n",
       "      <td>2111.0</td>\n",
       "      <td>0.005211</td>\n",
       "      <td>0.072015</td>\n",
       "      <td>0.0</td>\n",
       "      <td>0.000000</td>\n",
       "      <td>0.000000</td>\n",
       "      <td>0.000000</td>\n",
       "      <td>1.0</td>\n",
       "    </tr>\n",
       "    <tr>\n",
       "      <th>Public_Transportation</th>\n",
       "      <td>2111.0</td>\n",
       "      <td>0.748460</td>\n",
       "      <td>0.434001</td>\n",
       "      <td>0.0</td>\n",
       "      <td>0.000000</td>\n",
       "      <td>1.000000</td>\n",
       "      <td>1.000000</td>\n",
       "      <td>1.0</td>\n",
       "    </tr>\n",
       "    <tr>\n",
       "      <th>Walking</th>\n",
       "      <td>2111.0</td>\n",
       "      <td>0.026528</td>\n",
       "      <td>0.160737</td>\n",
       "      <td>0.0</td>\n",
       "      <td>0.000000</td>\n",
       "      <td>0.000000</td>\n",
       "      <td>0.000000</td>\n",
       "      <td>1.0</td>\n",
       "    </tr>\n",
       "    <tr>\n",
       "      <th>NObeyesdad</th>\n",
       "      <td>2111.0</td>\n",
       "      <td>0.460445</td>\n",
       "      <td>0.498551</td>\n",
       "      <td>0.0</td>\n",
       "      <td>0.000000</td>\n",
       "      <td>0.000000</td>\n",
       "      <td>1.000000</td>\n",
       "      <td>1.0</td>\n",
       "    </tr>\n",
       "  </tbody>\n",
       "</table>\n",
       "</div>"
      ],
      "text/plain": [
       "                                 count       mean       std   min        25%  \\\n",
       "Gender                          2111.0   0.505921  0.500083   0.0   0.000000   \n",
       "Age                             2111.0  24.312600  6.345968  14.0  19.947192   \n",
       "family_history_with_overweight  2111.0   0.817622  0.386247   0.0   1.000000   \n",
       "FAVC                            2111.0   0.883941  0.320371   0.0   1.000000   \n",
       "FCVC                            2111.0   2.419043  0.533927   1.0   2.000000   \n",
       "NCP                             2111.0   2.685628  0.778039   1.0   2.658738   \n",
       "CAEC                            2111.0   1.140692  0.468543   0.0   1.000000   \n",
       "SMOKE                           2111.0   0.020843  0.142893   0.0   0.000000   \n",
       "CH2O                            2111.0   2.008011  0.612953   1.0   1.584812   \n",
       "SCC                             2111.0   0.045476  0.208395   0.0   0.000000   \n",
       "FAF                             2111.0   1.010298  0.850592   0.0   0.124505   \n",
       "TUE                             2111.0   0.657866  0.608927   0.0   0.000000   \n",
       "CALC                            2111.0   0.731407  0.515498   0.0   0.000000   \n",
       "Automobile                      2111.0   0.216485  0.411946   0.0   0.000000   \n",
       "Bike                            2111.0   0.003316  0.057502   0.0   0.000000   \n",
       "Motorbike                       2111.0   0.005211  0.072015   0.0   0.000000   \n",
       "Public_Transportation           2111.0   0.748460  0.434001   0.0   0.000000   \n",
       "Walking                         2111.0   0.026528  0.160737   0.0   0.000000   \n",
       "NObeyesdad                      2111.0   0.460445  0.498551   0.0   0.000000   \n",
       "\n",
       "                                      50%        75%   max  \n",
       "Gender                           1.000000   1.000000   1.0  \n",
       "Age                             22.777890  26.000000  61.0  \n",
       "family_history_with_overweight   1.000000   1.000000   1.0  \n",
       "FAVC                             1.000000   1.000000   1.0  \n",
       "FCVC                             2.385502   3.000000   3.0  \n",
       "NCP                              3.000000   3.000000   4.0  \n",
       "CAEC                             1.000000   1.000000   3.0  \n",
       "SMOKE                            0.000000   0.000000   1.0  \n",
       "CH2O                             2.000000   2.477420   3.0  \n",
       "SCC                              0.000000   0.000000   1.0  \n",
       "FAF                              1.000000   1.666678   3.0  \n",
       "TUE                              0.625350   1.000000   2.0  \n",
       "CALC                             1.000000   1.000000   3.0  \n",
       "Automobile                       0.000000   0.000000   1.0  \n",
       "Bike                             0.000000   0.000000   1.0  \n",
       "Motorbike                        0.000000   0.000000   1.0  \n",
       "Public_Transportation            1.000000   1.000000   1.0  \n",
       "Walking                          0.000000   0.000000   1.0  \n",
       "NObeyesdad                       0.000000   1.000000   1.0  "
      ]
     },
     "execution_count": 4,
     "metadata": {},
     "output_type": "execute_result"
    }
   ],
   "source": [
    "df_obesidade.describe().transpose()"
   ]
  },
  {
   "cell_type": "markdown",
   "metadata": {},
   "source": [
    "Quais colunas representam variáveis categóricas e quais são numéricas?"
   ]
  },
  {
   "cell_type": "code",
   "execution_count": 5,
   "metadata": {},
   "outputs": [
    {
     "name": "stdout",
     "output_type": "stream",
     "text": [
      "<class 'pandas.core.frame.DataFrame'>\n",
      "RangeIndex: 2111 entries, 0 to 2110\n",
      "Data columns (total 19 columns):\n",
      " #   Column                          Non-Null Count  Dtype  \n",
      "---  ------                          --------------  -----  \n",
      " 0   Gender                          2111 non-null   int64  \n",
      " 1   Age                             2111 non-null   float64\n",
      " 2   family_history_with_overweight  2111 non-null   int64  \n",
      " 3   FAVC                            2111 non-null   int64  \n",
      " 4   FCVC                            2111 non-null   float64\n",
      " 5   NCP                             2111 non-null   float64\n",
      " 6   CAEC                            2111 non-null   int64  \n",
      " 7   SMOKE                           2111 non-null   int64  \n",
      " 8   CH2O                            2111 non-null   float64\n",
      " 9   SCC                             2111 non-null   int64  \n",
      " 10  FAF                             2111 non-null   float64\n",
      " 11  TUE                             2111 non-null   float64\n",
      " 12  CALC                            2111 non-null   int64  \n",
      " 13  Automobile                      2111 non-null   int64  \n",
      " 14  Bike                            2111 non-null   int64  \n",
      " 15  Motorbike                       2111 non-null   int64  \n",
      " 16  Public_Transportation           2111 non-null   int64  \n",
      " 17  Walking                         2111 non-null   int64  \n",
      " 18  NObeyesdad                      2111 non-null   int64  \n",
      "dtypes: float64(6), int64(13)\n",
      "memory usage: 313.5 KB\n"
     ]
    }
   ],
   "source": [
    "#todas as colunas é composto por dados númericos\n",
    "df_obesidade.info()"
   ]
  },
  {
   "cell_type": "markdown",
   "metadata": {},
   "source": [
    "A base possui valores ausentes?"
   ]
  },
  {
   "cell_type": "code",
   "execution_count": 6,
   "metadata": {},
   "outputs": [
    {
     "data": {
      "text/plain": [
       "Gender                            0\n",
       "Age                               0\n",
       "family_history_with_overweight    0\n",
       "FAVC                              0\n",
       "FCVC                              0\n",
       "NCP                               0\n",
       "CAEC                              0\n",
       "SMOKE                             0\n",
       "CH2O                              0\n",
       "SCC                               0\n",
       "FAF                               0\n",
       "TUE                               0\n",
       "CALC                              0\n",
       "Automobile                        0\n",
       "Bike                              0\n",
       "Motorbike                         0\n",
       "Public_Transportation             0\n",
       "Walking                           0\n",
       "NObeyesdad                        0\n",
       "dtype: int64"
      ]
     },
     "execution_count": 6,
     "metadata": {},
     "output_type": "execute_result"
    }
   ],
   "source": [
    "#não possui valores nulos\n",
    "df_obesidade.isnull().sum()"
   ]
  },
  {
   "cell_type": "code",
   "execution_count": 7,
   "metadata": {},
   "outputs": [
    {
     "data": {
      "text/plain": [
       "Gender                               2\n",
       "Age                               1402\n",
       "family_history_with_overweight       2\n",
       "FAVC                                 2\n",
       "FCVC                               810\n",
       "NCP                                635\n",
       "CAEC                                 4\n",
       "SMOKE                                2\n",
       "CH2O                              1268\n",
       "SCC                                  2\n",
       "FAF                               1190\n",
       "TUE                               1129\n",
       "CALC                                 4\n",
       "Automobile                           2\n",
       "Bike                                 2\n",
       "Motorbike                            2\n",
       "Public_Transportation                2\n",
       "Walking                              2\n",
       "NObeyesdad                           2\n",
       "dtype: int64"
      ]
     },
     "execution_count": 7,
     "metadata": {},
     "output_type": "execute_result"
    }
   ],
   "source": [
    "df_obesidade.nunique()"
   ]
  },
  {
   "cell_type": "markdown",
   "metadata": {},
   "source": [
    "Quantas linhas e colunas existem nessa base?"
   ]
  },
  {
   "cell_type": "code",
   "execution_count": 8,
   "metadata": {},
   "outputs": [
    {
     "name": "stdout",
     "output_type": "stream",
     "text": [
      "Existe cerca de 2111 linha e 19 colunas\n"
     ]
    }
   ],
   "source": [
    "print(f'Existe cerca de {df_obesidade.shape[0]} linha e {df_obesidade.shape[1]} colunas')"
   ]
  },
  {
   "cell_type": "markdown",
   "metadata": {},
   "source": [
    "Qual é a distribuição da idade entre as pessoas? Há outliers?"
   ]
  },
  {
   "cell_type": "code",
   "execution_count": 9,
   "metadata": {},
   "outputs": [],
   "source": [
    "df_obesidade['Age'] = df_obesidade['Age'].astype(int)\n",
    "dados_agrupado = df_obesidade['Age'].sort_values()"
   ]
  },
  {
   "cell_type": "code",
   "execution_count": 10,
   "metadata": {},
   "outputs": [
    {
     "data": {
      "text/plain": [
       "(np.int64(61), np.int64(14))"
      ]
     },
     "execution_count": 10,
     "metadata": {},
     "output_type": "execute_result"
    }
   ],
   "source": [
    "dados_agrupado.max() , dados_agrupado.min()"
   ]
  },
  {
   "cell_type": "code",
   "execution_count": 11,
   "metadata": {},
   "outputs": [
    {
     "name": "stdout",
     "output_type": "stream",
     "text": [
      "Mediana da idade 22.0\n",
      "Média da idade 23.972524869729988\n"
     ]
    }
   ],
   "source": [
    "print(f\"Mediana da idade {np.median(dados_agrupado)}\")\n",
    "print(f'Média da idade {np.mean(dados_agrupado)}')\n"
   ]
  },
  {
   "cell_type": "code",
   "execution_count": 12,
   "metadata": {},
   "outputs": [
    {
     "data": {
      "text/plain": [
       "(array([113, 832, 408, 351, 172,  76,  96,  38,  13,   3,   2,   6,   1]),\n",
       " array([14, 17, 21, 24, 28, 32, 35, 39, 42, 46, 50, 53, 57, 61]))"
      ]
     },
     "execution_count": 12,
     "metadata": {},
     "output_type": "execute_result"
    }
   ],
   "source": [
    "distribuiçao_idade ,  classes = np.histogram(df_obesidade['Age'] ,  bins='sturges')\n",
    "distribuiçao_idade, np.int64(classes)\n"
   ]
  },
  {
   "cell_type": "code",
   "execution_count": 13,
   "metadata": {},
   "outputs": [
    {
     "data": {
      "text/plain": [
       "['14 -  18',\n",
       " '18 -  21',\n",
       " '21 -  25',\n",
       " '25 -  28',\n",
       " '28 -  32',\n",
       " '32 -  36',\n",
       " '36 -  39',\n",
       " '39 -  43',\n",
       " '43 -  47',\n",
       " '47 -  50',\n",
       " '50 -  54',\n",
       " '54 -  57',\n",
       " '57 -  61']"
      ]
     },
     "execution_count": 13,
     "metadata": {},
     "output_type": "execute_result"
    }
   ],
   "source": [
    "rotulos_de_dados = [f'{round(classes[i])} -  {round(classes[i + 1])}' for i in range(len(classes)-1) ]\n",
    "rotulos_de_dados"
   ]
  },
  {
   "cell_type": "code",
   "execution_count": 14,
   "metadata": {},
   "outputs": [
    {
     "data": {
      "text/plain": [
       "[41,\n",
       " 52,\n",
       " 39,\n",
       " 55,\n",
       " 38,\n",
       " 61,\n",
       " 44,\n",
       " 38,\n",
       " 40,\n",
       " 55,\n",
       " 45,\n",
       " 38,\n",
       " 39,\n",
       " 41,\n",
       " 41,\n",
       " 40,\n",
       " 51,\n",
       " 56,\n",
       " 39,\n",
       " 38,\n",
       " 38,\n",
       " 38,\n",
       " 41,\n",
       " 40,\n",
       " 37,\n",
       " 40,\n",
       " 37,\n",
       " 41,\n",
       " 37,\n",
       " 38,\n",
       " 45,\n",
       " 41,\n",
       " 37,\n",
       " 42,\n",
       " 37,\n",
       " 40,\n",
       " 38,\n",
       " 40,\n",
       " 38,\n",
       " 39,\n",
       " 38,\n",
       " 38,\n",
       " 39,\n",
       " 38,\n",
       " 55,\n",
       " 42,\n",
       " 38,\n",
       " 37,\n",
       " 50,\n",
       " 43,\n",
       " 45,\n",
       " 55,\n",
       " 38,\n",
       " 39,\n",
       " 46,\n",
       " 38,\n",
       " 37,\n",
       " 37,\n",
       " 39,\n",
       " 37,\n",
       " 55,\n",
       " 41,\n",
       " 38,\n",
       " 37,\n",
       " 47,\n",
       " 39,\n",
       " 45,\n",
       " 39,\n",
       " 43,\n",
       " 42,\n",
       " 37,\n",
       " 40,\n",
       " 37,\n",
       " 40,\n",
       " 40,\n",
       " 39,\n",
       " 37,\n",
       " 37,\n",
       " 37,\n",
       " 43,\n",
       " 38,\n",
       " 42,\n",
       " 47,\n",
       " 38,\n",
       " 37,\n",
       " 43,\n",
       " 40,\n",
       " 37,\n",
       " 37,\n",
       " 39,\n",
       " 41,\n",
       " 40,\n",
       " 39,\n",
       " 38,\n",
       " 38,\n",
       " 38,\n",
       " 38,\n",
       " 39,\n",
       " 42,\n",
       " 43,\n",
       " 43,\n",
       " 39,\n",
       " 39,\n",
       " 37,\n",
       " 40,\n",
       " 38,\n",
       " 38,\n",
       " 37,\n",
       " 39,\n",
       " 37,\n",
       " 38,\n",
       " 40,\n",
       " 40,\n",
       " 38,\n",
       " 39,\n",
       " 37,\n",
       " 37,\n",
       " 37,\n",
       " 39,\n",
       " 37,\n",
       " 41,\n",
       " 43,\n",
       " 37,\n",
       " 41,\n",
       " 40,\n",
       " 40,\n",
       " 37,\n",
       " 38,\n",
       " 38,\n",
       " 37,\n",
       " 39,\n",
       " 40,\n",
       " 41,\n",
       " 40,\n",
       " 40,\n",
       " 40,\n",
       " 37,\n",
       " 37,\n",
       " 39,\n",
       " 40,\n",
       " 40,\n",
       " 37,\n",
       " 37,\n",
       " 37,\n",
       " 38,\n",
       " 38,\n",
       " 38]"
      ]
     },
     "execution_count": 14,
     "metadata": {},
     "output_type": "execute_result"
    }
   ],
   "source": [
    "# Função para detectar outliers usando IQR\n",
    "def detectar_outliers_iqr(df):\n",
    "    outliers = {}\n",
    "    for coluna in df.select_dtypes(include=['number']).columns:  # Apenas colunas numéricas\n",
    "        Q1 = df[coluna].quantile(0.25)\n",
    "        Q3 = df[coluna].quantile(0.75)\n",
    "        IQR = Q3 - Q1\n",
    "        limite_inferior = Q1 - 1.5 * IQR\n",
    "        limite_superior = Q3 + 1.5 * IQR\n",
    "        \n",
    "        # Filtra os valores fora dos limites\n",
    "        outlier_values = df[(df[coluna] < limite_inferior) | (df[coluna] > limite_superior)][coluna]\n",
    "        \n",
    "        if not outlier_values.empty:\n",
    "            outliers[coluna] = outlier_values.tolist()\n",
    "    \n",
    "    return outliers\n",
    "\n",
    "outliers = detectar_outliers_iqr(df_obesidade)\n",
    "\n",
    "\n",
    "outliers['Age']\n"
   ]
  },
  {
   "cell_type": "code",
   "execution_count": 15,
   "metadata": {},
   "outputs": [],
   "source": [
    "cor_das_barras = '#003574'\n",
    "cor_dos_parametros = '#3990d6'\n",
    "cor_de_fundo = '#010022'"
   ]
  },
  {
   "cell_type": "code",
   "execution_count": 16,
   "metadata": {},
   "outputs": [
    {
     "data": {
      "image/png": "[encoded data removed]",
      "text/plain": [
       "<Figure size 1000x400 with 1 Axes>"
      ]
     },
     "metadata": {},
     "output_type": "display_data"
    }
   ],
   "source": [
    "fig , ax = plt.subplots(figsize=(10,4))\n",
    "sns.boxplot(data=df_obesidade['Age'], color=cor_das_barras)\n",
    "plt.title('Verificação de outliers', color=cor_dos_parametros)\n",
    "plt.yticks(fontsize=10)\n",
    "plt.ylabel('Idade' , fontsize=10, color=cor_dos_parametros);\n",
    "fig.patch.set_facecolor(cor_de_fundo)\n",
    "ax.set_facecolor(cor_de_fundo)\n",
    "ax.tick_params(colors=cor_dos_parametros)\n",
    "ax.grid(False)\n",
    "for spine in ax.spines.values():\n",
    "    spine.set_visible(False)\n",
    "plt.show()\n"
   ]
  },
  {
   "cell_type": "code",
   "execution_count": 17,
   "metadata": {},
   "outputs": [
    {
     "data": {
      "image/png": "[encoded data removed]",
      "text/plain": [
       "<Figure size 1000x500 with 1 Axes>"
      ]
     },
     "metadata": {},
     "output_type": "display_data"
    }
   ],
   "source": [
    "fig , ax = plt.subplots(figsize=(10, 5))\n",
    "sns.barplot(x=rotulos_de_dados, y=distribuiçao_idade, color=cor_das_barras)\n",
    "plt.xticks(rotation=45, fontsize=8)\n",
    "plt.yticks(fontsize=8)\n",
    "plt.xlabel('Faixa etária', fontsize=10,color=cor_dos_parametros)\n",
    "plt.ylabel('Quantidade', fontsize=10, color=cor_dos_parametros)\n",
    "plt.title('Distribuição de Idade', fontsize=12, color=cor_dos_parametros)\n",
    "fig.patch.set_facecolor(cor_de_fundo)\n",
    "ax.set_facecolor(cor_de_fundo)\n",
    "ax.tick_params(colors=cor_dos_parametros)\n",
    "ax.grid(False)\n",
    "\n",
    "for patch in ax.patches:\n",
    "    patch.set_edgecolor('#3990d6')  \n",
    "    patch.set_linewidth(1)  \n",
    "\n",
    "for spine in ax.spines.values():\n",
    "    spine.set_visible(False)\n",
    "\n"
   ]
  },
  {
   "cell_type": "markdown",
   "metadata": {},
   "source": [
    "Existe correlação entre FAVC (frequência de consumo de comida altamente calórica) e family_history_with_overweight?"
   ]
  },
  {
   "cell_type": "code",
   "execution_count": 18,
   "metadata": {},
   "outputs": [
    {
     "data": {
      "text/plain": [
       "np.float64(0.20803550695428452)"
      ]
     },
     "execution_count": 18,
     "metadata": {},
     "output_type": "execute_result"
    }
   ],
   "source": [
    "#A correlação dentre esses dados são bem fracas como podemos ver abaixo\n",
    "df_obesidade['FAVC'].corr(df_obesidade['family_history_with_overweight'])\n"
   ]
  },
  {
   "cell_type": "code",
   "execution_count": 19,
   "metadata": {},
   "outputs": [
    {
     "data": {
      "image/png": "[encoded data removed]",
      "text/plain": [
       "<Figure size 1000x300 with 1 Axes>"
      ]
     },
     "metadata": {},
     "output_type": "display_data"
    }
   ],
   "source": [
    "fig , ax = plt.subplots(figsize=(10,3))\n",
    "sns.barplot(x=df_obesidade[\"FAVC\"], y=df_obesidade[\"family_history_with_overweight\"], color=cor_das_barras)\n",
    "plt.title(\"Correlação entre FAVC e Historico familiar \", fontsize=10, color=cor_dos_parametros)\n",
    "plt.xticks(fontsize=10)\n",
    "plt.yticks(fontsize=10)\n",
    "plt.xlabel('Frenquência de alimentação', fontsize=10, color=cor_dos_parametros)\n",
    "plt.ylabel('Familiar com histórico de obesidade', fontsize=10, color=cor_dos_parametros)\n",
    "fig.patch.set_facecolor(cor_de_fundo)\n",
    "ax.set_facecolor(cor_de_fundo)\n",
    "ax.grid(False)\n",
    "ax.tick_params(colors=cor_dos_parametros)\n",
    "\n",
    "for patch in ax.patches:\n",
    "    patch.set_edgecolor('#3990d6')  \n",
    "    patch.set_linewidth(2)  \n",
    "\n",
    "for spine in ax.spines.values():\n",
    "    spine.set_visible(False)\n",
    "\n"
   ]
  },
  {
   "cell_type": "markdown",
   "metadata": {},
   "source": [
    "Qual é a proporção de fumantes (SMOKE) nessa base?"
   ]
  },
  {
   "cell_type": "code",
   "execution_count": 20,
   "metadata": {},
   "outputs": [
    {
     "data": {
      "text/plain": [
       "(array([0, 1]), array([2067,   44]))"
      ]
     },
     "execution_count": 20,
     "metadata": {},
     "output_type": "execute_result"
    }
   ],
   "source": [
    "np.unique(df_obesidade['SMOKE'], return_counts=True)"
   ]
  },
  {
   "cell_type": "code",
   "execution_count": 21,
   "metadata": {},
   "outputs": [
    {
     "data": {
      "image/png": "[encoded data removed]",
      "text/plain": [
       "<Figure size 1000x500 with 1 Axes>"
      ]
     },
     "metadata": {},
     "output_type": "display_data"
    }
   ],
   "source": [
    "fig, ax = plt.subplots(figsize=(10,5))\n",
    "df_obesidade['SMOKE'].value_counts(normalize=True).plot.pie(autopct='%1.1f%%', colors=['#003574','#d63988'])\n",
    "plt.title('Proporção de fumantes', color='#3990d6')\n",
    "plt.ylabel('Azul: não fumante',color='#3990d6');\n",
    "plt.xlabel('Rosa: Fumante', color='#3990d6')\n",
    "fig.patch.set_facecolor('#010022')\n",
    "ax.set_facecolor('#010022')\n",
    "ax.tick_params(colors='#3990d6')\n",
    "plt.show()\n",
    "\n"
   ]
  },
  {
   "cell_type": "code",
   "execution_count": 22,
   "metadata": {},
   "outputs": [
    {
     "data": {
      "image/png": "[encoded data removed]",
      "text/plain": [
       "<Figure size 800x500 with 1 Axes>"
      ]
     },
     "metadata": {},
     "output_type": "display_data"
    }
   ],
   "source": [
    "df_obesidade['CH2O'] = df_obesidade['CH2O'].astype(int)\n",
    "agrupamento_agua = df_obesidade.groupby(['CH2O'])['CH2O'].value_counts().sort_values()\n",
    "agrupamento_agua_reset = agrupamento_agua.reset_index()\n",
    "fig, ax = plt.subplots(figsize=(8,5))\n",
    "sns.barplot(x=agrupamento_agua_reset['CH2O'], y=agrupamento_agua_reset['count'], color=cor_das_barras, width=0.4)\n",
    "plt.title('Consumo de água', color=cor_dos_parametros)\n",
    "plt.xlabel('Quantidade de água ingerido (Litros)', color = cor_dos_parametros)\n",
    "plt.ylabel('Quantidade de Pessoas', color= cor_dos_parametros)\n",
    "fig.patch.set_facecolor(cor_de_fundo)\n",
    "ax.set_facecolor(cor_de_fundo)\n",
    "ax.tick_params(colors=cor_dos_parametros)\n",
    "\n",
    "ax.grid(False)\n",
    "for patch in ax.patches:\n",
    "    patch.set_edgecolor(cor_dos_parametros)\n",
    "    \n",
    "for spine in ax.spines.values():\n",
    "    spine.set_visible(False)\n",
    "plt.show()\n"
   ]
  },
  {
   "cell_type": "markdown",
   "metadata": {},
   "source": [
    "A variável FAF (atividade física) está relacionada com CALC (consumo de álcool)?"
   ]
  },
  {
   "cell_type": "code",
   "execution_count": 23,
   "metadata": {},
   "outputs": [
    {
     "data": {
      "text/plain": [
       "(array([0.      , 3.      , 2.      , ..., 1.414209, 1.139107, 1.026452],\n",
       "       shape=(1190,)),\n",
       " array([0, 1, 2, 3]))"
      ]
     },
     "execution_count": 23,
     "metadata": {},
     "output_type": "execute_result"
    }
   ],
   "source": [
    "df_obesidade['FAF'].unique(), df_obesidade['CALC'].unique()"
   ]
  },
  {
   "cell_type": "code",
   "execution_count": 24,
   "metadata": {},
   "outputs": [
    {
     "name": "stdout",
     "output_type": "stream",
     "text": [
      "valor de p: 0.00000000000000348815\n"
     ]
    },
    {
     "data": {
      "text/html": [
       "<div>\n",
       "<style scoped>\n",
       "    .dataframe tbody tr th:only-of-type {\n",
       "        vertical-align: middle;\n",
       "    }\n",
       "\n",
       "    .dataframe tbody tr th {\n",
       "        vertical-align: top;\n",
       "    }\n",
       "\n",
       "    .dataframe thead th {\n",
       "        text-align: right;\n",
       "    }\n",
       "</style>\n",
       "<table border=\"1\" class=\"dataframe\">\n",
       "  <thead>\n",
       "    <tr style=\"text-align: right;\">\n",
       "      <th>CALC</th>\n",
       "      <th>0</th>\n",
       "      <th>1</th>\n",
       "      <th>2</th>\n",
       "      <th>3</th>\n",
       "    </tr>\n",
       "    <tr>\n",
       "      <th>FAF_cat</th>\n",
       "      <th></th>\n",
       "      <th></th>\n",
       "      <th></th>\n",
       "      <th></th>\n",
       "    </tr>\n",
       "  </thead>\n",
       "  <tbody>\n",
       "    <tr>\n",
       "      <th>alta</th>\n",
       "      <td>171</td>\n",
       "      <td>181</td>\n",
       "      <td>24</td>\n",
       "      <td>0</td>\n",
       "    </tr>\n",
       "    <tr>\n",
       "      <th>baixa</th>\n",
       "      <td>351</td>\n",
       "      <td>853</td>\n",
       "      <td>40</td>\n",
       "      <td>1</td>\n",
       "    </tr>\n",
       "    <tr>\n",
       "      <th>média</th>\n",
       "      <td>117</td>\n",
       "      <td>367</td>\n",
       "      <td>6</td>\n",
       "      <td>0</td>\n",
       "    </tr>\n",
       "  </tbody>\n",
       "</table>\n",
       "</div>"
      ],
      "text/plain": [
       "CALC       0    1   2  3\n",
       "FAF_cat                 \n",
       "alta     171  181  24  0\n",
       "baixa    351  853  40  1\n",
       "média    117  367   6  0"
      ]
     },
     "metadata": {},
     "output_type": "display_data"
    },
    {
     "name": "stdout",
     "output_type": "stream",
     "text": [
      "A uma relação entre a coluna FAF e CALC, logo quem faz mais atividade fisica tende a consumir pouco álcool\n"
     ]
    },
    {
     "data": {
      "image/png": "[encoded data removed]",
      "text/plain": [
       "<Figure size 500x400 with 1 Axes>"
      ]
     },
     "metadata": {},
     "output_type": "display_data"
    }
   ],
   "source": [
    "def categorizar_valores(dataset):\n",
    "\n",
    "    '''Função para categorizar os valores da colua FAF ja que eles estão do tipo numerico continuo.\n",
    "      Para fazermos uma relação entre as duas colunas mencionadas, precisaremos que elas esteja em categóricas '''\n",
    "    \n",
    "    if dataset <= 1:\n",
    "        return 'baixa'\n",
    "    elif dataset < 2:\n",
    "        return 'média'\n",
    "    else:\n",
    "        return 'alta'\n",
    "    \n",
    "df_obesidade['FAF_cat'] =  df_obesidade['FAF'].apply(categorizar_valores)\n",
    "\n",
    "#fazendo uma tabela de contigência para saber quantas combinações há nas duas colunas\n",
    "tabela_contigencia = pd.crosstab(df_obesidade['FAF_cat'], df_obesidade['CALC'])\n",
    "\n",
    "chi , p , dof, expeceted = chi2_contingency(tabela_contigencia)\n",
    "\n",
    "#como o numero de P vai vim em notação cientifica, vamos transformar o valor pra deixar mais claro\n",
    "tranforma_valor_de_p = np.float64(p)\n",
    "\n",
    "print(f'valor de p: {tranforma_valor_de_p:.20f}')\n",
    "\n",
    "display(tabela_contigencia)\n",
    "\n",
    "if tranforma_valor_de_p < 0.5:\n",
    "    print('A uma relação entre a coluna FAF e CALC, logo quem faz mais atividade fisica tende a consumir pouco álcool')\n",
    "    tabela_contigencia.plot(kind='bar', color=['#FF9999', '#66B2FF', '#99FF99', '#FFCC99'], figsize=(5,4))\n",
    "    plt.gca().set_facecolor(cor_de_fundo)  # Define um cinza claro como cor de fundo\n",
    "    plt.gcf().set_facecolor(cor_de_fundo)  # Define a mesma cor para o fundo da figura\n",
    "    plt.title(\"Proporção de Consumo de Álcool por Nível de Atividade Física\", color=cor_dos_parametros)\n",
    "    plt.xlabel('FAF(Atividade Fisica)', fontsize=10, color=cor_dos_parametros)\n",
    "    plt.ylabel('Consumo de Àlcool', fontsize=10, color=cor_dos_parametros)\n",
    "    plt.xticks(rotation=45, color=cor_dos_parametros)\n",
    "    plt.yticks(color=cor_dos_parametros)\n",
    "    plt.legend(title=\"Consumo de Álcool (CALC)\", bbox_to_anchor=(1.05, 1), loc='upper left', fontsize=10)\n",
    "    plt.grid(False)\n",
    "    plt.show()\n",
    "\n",
    "else:\n",
    "    print('Não há relação alguma entre essas colunas')\n",
    "\n",
    "\n"
   ]
  },
  {
   "cell_type": "markdown",
   "metadata": {},
   "source": [
    "Quantas pessoas utilizam bicicleta (Bike)? Há alguma relação com Automobile?"
   ]
  },
  {
   "cell_type": "code",
   "execution_count": 25,
   "metadata": {},
   "outputs": [
    {
     "data": {
      "text/plain": [
       "(Bike\n",
       " 0    2104\n",
       " 1       7\n",
       " Name: count, dtype: int64,\n",
       " Automobile\n",
       " 0    1654\n",
       " 1     457\n",
       " Name: count, dtype: int64)"
      ]
     },
     "execution_count": 25,
     "metadata": {},
     "output_type": "execute_result"
    }
   ],
   "source": [
    "df_obesidade['Bike'].value_counts(), df_obesidade['Automobile'].value_counts()"
   ]
  },
  {
   "cell_type": "code",
   "execution_count": 26,
   "metadata": {},
   "outputs": [
    {
     "data": {
      "text/plain": [
       "(array([0, 1]), array([0, 1]))"
      ]
     },
     "execution_count": 26,
     "metadata": {},
     "output_type": "execute_result"
    }
   ],
   "source": [
    "df_obesidade['Bike'].unique(), df_obesidade['Automobile'].unique()"
   ]
  },
  {
   "cell_type": "code",
   "execution_count": 27,
   "metadata": {},
   "outputs": [
    {
     "name": "stdout",
     "output_type": "stream",
     "text": [
      "Cerca de 2104 pessoas não usa Bicicleta, enquanto 7 usa bicicleta\n"
     ]
    }
   ],
   "source": [
    "valores_bike , classes = np.unique(df_obesidade['Bike'], return_counts=True)\n",
    "print(f'Cerca de {classes[0]} pessoas não usa Bicicleta, enquanto {classes[1]} usa bicicleta')"
   ]
  },
  {
   "cell_type": "code",
   "execution_count": 28,
   "metadata": {},
   "outputs": [
    {
     "data": {
      "text/html": [
       "<div>\n",
       "<style scoped>\n",
       "    .dataframe tbody tr th:only-of-type {\n",
       "        vertical-align: middle;\n",
       "    }\n",
       "\n",
       "    .dataframe tbody tr th {\n",
       "        vertical-align: top;\n",
       "    }\n",
       "\n",
       "    .dataframe thead th {\n",
       "        text-align: right;\n",
       "    }\n",
       "</style>\n",
       "<table border=\"1\" class=\"dataframe\">\n",
       "  <thead>\n",
       "    <tr style=\"text-align: right;\">\n",
       "      <th>Automobile</th>\n",
       "      <th>0</th>\n",
       "      <th>1</th>\n",
       "    </tr>\n",
       "    <tr>\n",
       "      <th>Bike</th>\n",
       "      <th></th>\n",
       "      <th></th>\n",
       "    </tr>\n",
       "  </thead>\n",
       "  <tbody>\n",
       "    <tr>\n",
       "      <th>0</th>\n",
       "      <td>1647</td>\n",
       "      <td>457</td>\n",
       "    </tr>\n",
       "    <tr>\n",
       "      <th>1</th>\n",
       "      <td>7</td>\n",
       "      <td>0</td>\n",
       "    </tr>\n",
       "  </tbody>\n",
       "</table>\n",
       "</div>"
      ],
      "text/plain": [
       "Automobile     0    1\n",
       "Bike                 \n",
       "0           1647  457\n",
       "1              7    0"
      ]
     },
     "execution_count": 28,
     "metadata": {},
     "output_type": "execute_result"
    }
   ],
   "source": [
    "relaçao_bike_e_automovel = pd.crosstab(df_obesidade['Bike'], df_obesidade['Automobile'])\n",
    "relaçao_bike_e_automovel"
   ]
  },
  {
   "cell_type": "code",
   "execution_count": 29,
   "metadata": {},
   "outputs": [
    {
     "data": {
      "text/plain": [
       "[None, None, None, None, None, None, None, None, None, None]"
      ]
     },
     "execution_count": 29,
     "metadata": {},
     "output_type": "execute_result"
    },
    {
     "data": {
      "image/png": "[encoded data removed]",
      "text/plain": [
       "<Figure size 1000x500 with 2 Axes>"
      ]
     },
     "metadata": {},
     "output_type": "display_data"
    }
   ],
   "source": [
    "fig , ax = plt.subplots(figsize=(10,5))\n",
    "heatmap = sns.heatmap(relaçao_bike_e_automovel, fmt='d', annot=True, cmap='coolwarm')\n",
    "fig.patch.set_facecolor(cor_de_fundo)\n",
    "ax.set_xlabel('Automobile', color=cor_dos_parametros)\n",
    "ax.set_ylabel('Bike', color=cor_dos_parametros)\n",
    "ax.tick_params(axis= 'x', colors=cor_dos_parametros)\n",
    "ax.tick_params(axis='y', colors=cor_dos_parametros)\n",
    "ax.set_title('Relação entre o uso de Automóvel e Bicicleta', color=cor_dos_parametros)\n",
    "colorbar = heatmap.collections[0].colorbar\n",
    "colorbar.ax.yaxis.set_tick_params(color=cor_dos_parametros)\n",
    "plt.setp(plt.getp(colorbar.ax.axes, 'yticklabels'), color=cor_dos_parametros)"
   ]
  },
  {
   "cell_type": "code",
   "execution_count": 30,
   "metadata": {},
   "outputs": [
    {
     "name": "stdout",
     "output_type": "stream",
     "text": [
      "p: 0.3506111869156714. Como o valor de p é maior que 0.5 que usamos pra interpretação, então não há relação alguma entre as tabela \n"
     ]
    }
   ],
   "source": [
    "contigencia_B_e_A = chi2_contingency(relaçao_bike_e_automovel)\n",
    "print(f'p: {contigencia_B_e_A[1]}. Como o valor de p é maior que 0.5 que usamos pra interpretação, então não há relação alguma entre as tabela ')"
   ]
  },
  {
   "cell_type": "code",
   "execution_count": 31,
   "metadata": {},
   "outputs": [],
   "source": [
    "dados_feminino = df_obesidade.loc[df_obesidade['Gender'] == 0 ]\n",
    "dados_masculino = df_obesidade.loc[df_obesidade['Gender'] == 1]"
   ]
  },
  {
   "cell_type": "code",
   "execution_count": 32,
   "metadata": {},
   "outputs": [
    {
     "name": "stdout",
     "output_type": "stream",
     "text": [
      "NObeyesdad\n",
      "0    53.88303\n",
      "1    46.11697\n",
      "Name: proportion, dtype: float64\n",
      "NObeyesdad\n",
      "0    54.026217\n",
      "1    45.973783\n",
      "Name: proportion, dtype: float64\n"
     ]
    },
    {
     "data": {
      "image/png": "[encoded data removed]",
      "text/plain": [
       "<Figure size 1300x500 with 2 Axes>"
      ]
     },
     "metadata": {},
     "output_type": "display_data"
    }
   ],
   "source": [
    "porcentagem_NObeyesdad_f = dados_feminino['NObeyesdad'].value_counts(normalize=True) * 100\n",
    "porcentagem_NObeyesdad_m = dados_masculino['NObeyesdad'].value_counts(normalize=True) * 100\n",
    "\n",
    "print(porcentagem_NObeyesdad_f)\n",
    "print(porcentagem_NObeyesdad_m)\n",
    "\n",
    "fig, ax = plt.subplots(1,2, figsize=(13,5))\n",
    "sns.barplot(porcentagem_NObeyesdad_m, ax=ax[0], color=cor_das_barras)\n",
    "fig.patch.set_facecolor(cor_de_fundo)\n",
    "for i in ax[0].containers:\n",
    "    ax[0].set_title('Porcentagem de obesos e não obesos Masculino', fontsize=13, color=cor_dos_parametros)\n",
    "    ax[0].bar_label(i, fmt='%.2f%%', fontsize=10, color=cor_dos_parametros)\n",
    "    ax[0].set_xlabel('Dados masculino', color= cor_dos_parametros)\n",
    "    ax[0].set_ylabel('Porcentagem', color= cor_dos_parametros)\n",
    "    ax[0].set_facecolor(cor_de_fundo)\n",
    "    ax[0].tick_params(axis='x', colors=cor_dos_parametros)\n",
    "    ax[0].tick_params(axis='y', colors=cor_dos_parametros)\n",
    "    ax[0].grid(axis='y', color=cor_dos_parametros, linestyle='-', alpha=0.3)\n",
    "    \n",
    "    for patch in ax[0].patches:\n",
    "        patch.set_edgecolor(cor_dos_parametros)\n",
    "        patch.set_linewidth(1)\n",
    "    \n",
    "    for spine in ax[0].spines.values():\n",
    "        spine.set_edgecolor(cor_dos_parametros)\n",
    "\n",
    "sns.barplot(porcentagem_NObeyesdad_f, ax=ax[1], color=cor_das_barras)\n",
    "for i in ax[1].containers:\n",
    "    ax[1].set_title('Porcentagem de obesos e não obesos Feminino', fontsize=13, color=cor_dos_parametros)\n",
    "    ax[1].bar_label(i, fmt='%.2f%%', fontsize=10, color=cor_dos_parametros)\n",
    "    ax[1].set_xlabel('Dados Feminino', color= cor_dos_parametros)\n",
    "    ax[1].set_ylabel('Porcentagem', color= cor_dos_parametros)\n",
    "    ax[1].set_facecolor(cor_de_fundo)\n",
    "    ax[1].tick_params(axis='x', colors=cor_dos_parametros) \n",
    "    ax[1].tick_params(axis='y', colors=cor_dos_parametros)\n",
    "    ax[1].grid(axis='y', color=cor_dos_parametros, linestyle='-', alpha=0.3)\n",
    "    \n",
    "    for patch in ax[1].patches:\n",
    "        patch.set_edgecolor(cor_dos_parametros)\n",
    "        patch.set_linewidth(1)\n",
    "\n",
    "    for spine in ax[1].spines.values():\n",
    "        spine.set_edgecolor(cor_dos_parametros)\n",
    "\n",
    "plt.show()\n",
    "        "
   ]
  },
  {
   "cell_type": "code",
   "execution_count": 33,
   "metadata": {},
   "outputs": [
    {
     "name": "stdout",
     "output_type": "stream",
     "text": [
      "Média de refeição que pessoas não obesas ingere 2.66\n",
      "Média de refeição que pessoas obesas ingere 2.72\n"
     ]
    }
   ],
   "source": [
    "#como a média de refeições ingerida por dia é muito próxima podemos deduzir que a refeição não influência muito na obesidade\n",
    "\n",
    "dataset_obesos = df_obesidade.loc[df_obesidade['NObeyesdad'] ==  1]\n",
    "dataset_não_obesos = df_obesidade.loc[df_obesidade['NObeyesdad'] == 0 ]\n",
    "\n",
    "print(f'Média de refeição que pessoas não obesas ingere {dataset_não_obesos['NCP'].mean():.2f}')\n",
    "print(f'Média de refeição que pessoas obesas ingere {dataset_obesos['NCP'].mean():.2f}')"
   ]
  },
  {
   "cell_type": "code",
   "execution_count": 34,
   "metadata": {},
   "outputs": [
    {
     "data": {
      "text/plain": [
       "TtestResult(statistic=np.float64(-1.7005178501441987), pvalue=np.float64(0.089180991526075), df=np.float64(2109.0))"
      ]
     },
     "execution_count": 34,
     "metadata": {},
     "output_type": "execute_result"
    }
   ],
   "source": [
    "#A média de refeições diárias entre pessoas obesas e não obesas é próxima (2.72 vs 2.66), e essa diferença não é estatisticamente significativa (p-valor = 0.089). \n",
    "#Portanto, a frequência de refeições por dia não apresenta influência relevante na obesidade de forma isolada.\n",
    "ttest_ind(dataset_não_obesos['NCP'], dataset_obesos['NCP'])"
   ]
  },
  {
   "cell_type": "code",
   "execution_count": 35,
   "metadata": {},
   "outputs": [
    {
     "name": "stderr",
     "output_type": "stream",
     "text": [
      "C:\\Users\\Gabriel\\AppData\\Local\\Temp\\ipykernel_3388\\3741301753.py:2: SettingWithCopyWarning: \n",
      "A value is trying to be set on a copy of a slice from a DataFrame.\n",
      "Try using .loc[row_indexer,col_indexer] = value instead\n",
      "\n",
      "See the caveats in the documentation: https://pandas.pydata.org/pandas-docs/stable/user_guide/indexing.html#returning-a-view-versus-a-copy\n",
      "  dataset_obesos['NCP_cat'] = dataset_obesos['NCP'].apply(categorizar_valores);\n"
     ]
    }
   ],
   "source": [
    "#categorizando os valores da refeição para Alto, Médio e Baixo.\n",
    "dataset_obesos['NCP_cat'] = dataset_obesos['NCP'].apply(categorizar_valores);"
   ]
  },
  {
   "cell_type": "code",
   "execution_count": 36,
   "metadata": {},
   "outputs": [
    {
     "data": {
      "text/plain": [
       "NCP_cat\n",
       "alta     839\n",
       "média     94\n",
       "baixa     39\n",
       "Name: count, dtype: int64"
      ]
     },
     "execution_count": 36,
     "metadata": {},
     "output_type": "execute_result"
    }
   ],
   "source": [
    "dataset_obesos['NCP_cat'].value_counts()"
   ]
  },
  {
   "cell_type": "code",
   "execution_count": 37,
   "metadata": {},
   "outputs": [
    {
     "name": "stderr",
     "output_type": "stream",
     "text": [
      "C:\\Users\\Gabriel\\AppData\\Local\\Temp\\ipykernel_3388\\2264503348.py:1: SettingWithCopyWarning: \n",
      "A value is trying to be set on a copy of a slice from a DataFrame.\n",
      "Try using .loc[row_indexer,col_indexer] = value instead\n",
      "\n",
      "See the caveats in the documentation: https://pandas.pydata.org/pandas-docs/stable/user_guide/indexing.html#returning-a-view-versus-a-copy\n",
      "  dataset_obesos['FAF'] = dataset_obesos['FAF'].round().astype(int)\n"
     ]
    }
   ],
   "source": [
    "dataset_obesos['FAF'] = dataset_obesos['FAF'].round().astype(int) \n",
    "tabela_correlaçao_FAF_NCP = pd.crosstab(dataset_obesos['NCP_cat'] , dataset_obesos['FAF'])"
   ]
  },
  {
   "cell_type": "code",
   "execution_count": 38,
   "metadata": {},
   "outputs": [
    {
     "data": {
      "image/png": "[encoded data removed]",
      "text/plain": [
       "<Figure size 700x500 with 1 Axes>"
      ]
     },
     "metadata": {},
     "output_type": "display_data"
    }
   ],
   "source": [
    "'''Desta análise podemos tirar a conclusão de que a obesidade pode esta ligada a falta de atividade fisica e alto consumo de refeições.\n",
    "Como podemos ver abaixo no gráfico, a quantidade pessoas que não pratica atividade fisica está na coluna de nível de refeição alta.'''\n",
    "tabela_correlaçao_FAF_NCP.plot(kind='bar', stacked=False, color=['#FF9999', '#66B2FF', '#99FF99', '#FFCC99'], figsize=(7,5))\n",
    "plt.gca().set_facecolor(cor_de_fundo)\n",
    "plt.gcf().set_facecolor(cor_de_fundo)\n",
    "plt.title('Correção entre Atividade Física e Refeição', color=cor_dos_parametros)\n",
    "plt.xlabel('Nível de refeição',color=cor_dos_parametros)\n",
    "plt.ylabel('Atividade Física',color=cor_dos_parametros)\n",
    "plt.xticks(rotation=45, color=cor_dos_parametros)\n",
    "plt.yticks(color=cor_dos_parametros)\n",
    "plt.grid(axis='y', color=cor_dos_parametros) \n",
    "plt.show()"
   ]
  },
  {
   "cell_type": "markdown",
   "metadata": {},
   "source": [
    "Será que a obesidade é mais comum em qual faixa etária de idade?"
   ]
  },
  {
   "cell_type": "code",
   "execution_count": 39,
   "metadata": {},
   "outputs": [
    {
     "data": {
      "text/plain": [
       "['15 - 18',\n",
       " '18 - 21',\n",
       " '21 - 24',\n",
       " '24 - 27',\n",
       " '27 - 30',\n",
       " '30 - 33',\n",
       " '33 - 36',\n",
       " '36 - 39',\n",
       " '39 - 42',\n",
       " '42 - 45',\n",
       " '45 - 48',\n",
       " '48 - 51']"
      ]
     },
     "execution_count": 39,
     "metadata": {},
     "output_type": "execute_result"
    }
   ],
   "source": [
    "#definindo o intervalo de classe\n",
    "bins= np.arange(15, 53, 3)\n",
    "#criando os rotulos\n",
    "labels = [f'{bins[i]} - {bins[i+1]}' for i in range(len(bins)-1)]\n",
    "labels\n"
   ]
  },
  {
   "cell_type": "code",
   "execution_count": 40,
   "metadata": {},
   "outputs": [
    {
     "data": {
      "text/plain": [
       "Age\n",
       "15 - 18     89\n",
       "18 - 21    183\n",
       "21 - 24    198\n",
       "24 - 27    262\n",
       "27 - 30     93\n",
       "30 - 33     44\n",
       "33 - 36     13\n",
       "36 - 39     53\n",
       "39 - 42     28\n",
       "42 - 45      7\n",
       "45 - 48      1\n",
       "48 - 51      0\n",
       "Name: count, dtype: int64"
      ]
     },
     "execution_count": 40,
     "metadata": {},
     "output_type": "execute_result"
    }
   ],
   "source": [
    "#definindo a frequencia e passando os parametros como bins e labels.\n",
    "cut  = pd.cut(dataset_obesos['Age'], bins=bins, labels=labels, include_lowest=True)\n",
    "frequencia = cut.value_counts().sort_index()\n",
    "frequencia"
   ]
  },
  {
   "cell_type": "code",
   "execution_count": 41,
   "metadata": {},
   "outputs": [
    {
     "data": {
      "image/png": "[encoded data removed]",
      "text/plain": [
       "<Figure size 1000x500 with 1 Axes>"
      ]
     },
     "metadata": {},
     "output_type": "display_data"
    }
   ],
   "source": [
    "#Com isso podemos concluir que a idade de pessoas obesas está concentrada entre 24 anos e 27 anos de idade.\n",
    "fig, ax = plt.subplots(figsize=(10,5))\n",
    "sns.barplot(x=frequencia.index.astype(str), y=frequencia.values)\n",
    "fig.patch.set_facecolor(cor_de_fundo)\n",
    "ax.set_facecolor(cor_de_fundo)\n",
    "ax.set_title('Distribuição de idade dentre os obesos', color=cor_dos_parametros)\n",
    "ax.set_xlabel('idade', color=cor_dos_parametros)\n",
    "ax.set_ylabel('Quantidade de pessoas', color=cor_dos_parametros)\n",
    "ax.tick_params(colors=cor_dos_parametros)\n",
    "for patch in ax.patches:\n",
    "    patch.set_edgecolor(cor_dos_parametros)\n",
    "plt.show()"
   ]
  },
  {
   "cell_type": "code",
   "execution_count": 42,
   "metadata": {},
   "outputs": [],
   "source": [
    "for data in df_obesidade['FAF_cat']:\n",
    "    if data == 'alta':\n",
    "        pratica_atividade_fisica_alta = df_obesidade.loc[df_obesidade['FAF_cat'] == data]\n",
    "    elif data == 'média':\n",
    "        pratica_atividade_fisica_media = df_obesidade.loc[df_obesidade['FAF_cat'] == data]\n",
    "    else:\n",
    "        pratica_atividade_fisica_baixa = df_obesidade.loc[df_obesidade['FAF_cat'] == data ]"
   ]
  },
  {
   "cell_type": "code",
   "execution_count": 43,
   "metadata": {},
   "outputs": [
    {
     "name": "stdout",
     "output_type": "stream",
     "text": [
      "Cerca de 17.81% das pessoas pratica atividade fisica alta\n",
      "Cerca de 23.21% das pessoas pratica atividade fisica media\n",
      "Cerca de 58.98% das pessoas pratica atividade fisica baixa\n"
     ]
    }
   ],
   "source": [
    "calc_porcentagem_alta = (pratica_atividade_fisica_alta.shape[0] / df_obesidade.shape[0] ) * 100\n",
    "calc_porcentagem_media = (pratica_atividade_fisica_media.shape[0] / df_obesidade.shape[0] ) * 100\n",
    "calc_porcentagem_baixa = (pratica_atividade_fisica_baixa.shape[0] / df_obesidade.shape[0] ) * 100\n",
    "lista_rotulos = ['Alta','Média','Baixa']\n",
    "lista_calculos = [calc_porcentagem_alta, calc_porcentagem_media,calc_porcentagem_baixa]\n",
    "\n",
    "print(f'Cerca de {calc_porcentagem_alta:.2f}% das pessoas pratica atividade fisica alta')\n",
    "print(f'Cerca de {calc_porcentagem_media:.2f}% das pessoas pratica atividade fisica media')\n",
    "print(f'Cerca de {calc_porcentagem_baixa:.2f}% das pessoas pratica atividade fisica baixa')"
   ]
  },
  {
   "cell_type": "code",
   "execution_count": 44,
   "metadata": {},
   "outputs": [
    {
     "data": {
      "image/png": "[encoded data removed]",
      "text/plain": [
       "<Figure size 1000x500 with 1 Axes>"
      ]
     },
     "metadata": {},
     "output_type": "display_data"
    }
   ],
   "source": [
    "'''Observa-se que quase 60% da população analisada apresenta baixo nível de atividade física. \n",
    "O que pode ser um fator de risco significativo para o desenvolvimento da obesidade.'''\n",
    "fig, ax = plt.subplots(figsize=(10,5))\n",
    "sns.barplot(x=lista_rotulos, y=lista_calculos, width=0.6)\n",
    "for p in ax.patches:\n",
    "    ax.annotate(f'{p.get_height():.2f}%', \n",
    "                (p.get_x() + p.get_width() / 2., p.get_height()), \n",
    "                ha='center', va='center', \n",
    "                xytext=(0, 6), \n",
    "                textcoords='offset points', color=cor_dos_parametros)\n",
    "\n",
    "fig.patch.set_facecolor(cor_de_fundo)\n",
    "ax.set_facecolor(cor_de_fundo)\n",
    "ax.set_xlabel('Nivel de atividade fisica', color=cor_dos_parametros)\n",
    "ax.set_ylabel('Porcentagem', color=cor_dos_parametros)\n",
    "ax.tick_params(colors=cor_dos_parametros)\n",
    "plt.show()"
   ]
  },
  {
   "cell_type": "markdown",
   "metadata": {},
   "source": [
    "Análise Exploratória com Impacto"
   ]
  },
  {
   "cell_type": "markdown",
   "metadata": {},
   "source": [
    "Durante a análise exploratória, encontramos padrões relevantes:\n",
    "Cerca de 60% da população analisada possui baixo nível de atividade física.\n",
    "Pessoas que consomem muita caloria entre refeições apresentam maior taxa de obesidade.\n",
    "O consumo de vegetais e ingestão de água demonstraram uma forte correlação com a ausência de obesidade.\n",
    "O uso de transporte ativo (como caminhada ou bicicleta) foi mais comum entre indivíduos com peso saudável.\n",
    "Esses achados são visualizados por meio de gráficos de barras, heatmaps de correlação e histogramas que mostram a distribuição das variáveis.\n"
   ]
  },
  {
   "cell_type": "markdown",
   "metadata": {},
   "source": [
    "Conclusão."
   ]
  },
  {
   "cell_type": "markdown",
   "metadata": {},
   "source": [
    "Concluímos que hábitos simples, como beber mais água, praticar atividade física regularmente e monitorar o consumo calórico, têm papel crucial na prevenção da obesidade.\n",
    "Transformar dados em conhecimento prático nos permite tomar decisões mais conscientes. E aqui, a ciência de dados mostrou o caminho para entender e combater a obesidade de forma preditiva e preventiva\n"
   ]
  }
 ],
 "metadata": {
  "kernelspec": {
   "display_name": "portifolio_venv",
   "language": "python",
   "name": "python3"
  },
  "language_info": {
   "codemirror_mode": {
    "name": "ipython",
    "version": 3
   },
   "file_extension": ".py",
   "mimetype": "text/x-python",
   "name": "python",
   "nbconvert_exporter": "python",
   "pygments_lexer": "ipython3",
   "version": "3.13.2"
  }
 },
 "nbformat": 4,
 "nbformat_minor": 2
}
